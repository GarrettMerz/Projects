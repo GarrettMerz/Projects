{
 "cells": [
  {
   "cell_type": "markdown",
   "metadata": {},
   "source": [
    "Now that we have a dataset, we can start to do some actual analysis. I'm going to be attempting to replicate the methodology of this paper:\n",
    "\n",
    "Sapienza, Anna and Goyal, Palash and Ferrara, Emilio. Deep Neural Networks for Optimal Team Composition. Frontiers in Big Data, vol 2. Jun 2019. https://arxiv.org/abs/1805.03285 \n",
    "\n",
    "While roller derby and esports games like League of Legends obviously are very different, in many ways, they can be treated similarly- each League match and individual jam of a derby bout consists of a team of 5 players with different defined roles attempting to achieve an objective while slowing the opposing team's attempt to achieve theirs.\n",
    "\n",
    "A derby bout (game) consists of a series of many individual jams. Each team forwards a defensive line of four \"blockers\" and an offensive line of one \"jammer\". The jammer scores points by passing through the \"pack\" of blockers- one initial non-scoring pass through the pack is required, and then one point is earned for each of the opposing team's blockers that the jammer passes on subsequent laps. Each jam can run for a set amount of time, but the jammer that is the first to complete the non-scoring pass (\"lead jammer\") can choose to end the jam early. In addition, the jammer can hand off their jammer status to one special blocker on each team called a \"pivot\" by passing the special helmet cover that the jammer wears. This is the general gist of the sport- in many ways, it's similar to the playground game \"Red Rover\", but on wheels.\n",
    "\n",
    "Naturally, when the blockers try to stop the jammer, things can get scrappy! Various penalties are given when a player shoves another in an illegal manner, when a blocker strays too far from the pack, when a player goes out of bounds, when a blocker makes an illegal formation (such as linking arms with another blocker), etc. It's general \"derby wisdom\" that certain penalties are more common \"new-skater\" penalties, while the distribution of penalties changes with skill. We can test this!"
   ]
  },
  {
   "cell_type": "markdown",
   "metadata": {},
   "source": [
    "\n",
    "Let's pick a team. I'll use the Kalamazoo Derby Darlins, the team I've announced for for the past few years. \n",
    "\n",
    "In this analysis, I'm going to make some assumptions.\n",
    "-First, that the fundamental unit of derby is not the bout, but the jam. Each jam is unique, and may have starting conditions determined by the preceding jam, but ultimately, for the purposes of this analysis, the only influence jam 1 may have on a jam like jam 20 is player stamina (N.B.: sometimes players can still be in the penalty box from previous jams, so this is not strictly correct! but it's probably correct enough for what we'd like to test here). This means that I will update a player's \"rating\" each jam rather than each bout.\n",
    "\n",
    "-Second, that the \"figure of merit\" to determine the performance of a jammer is the total number of points they score in a jam, but that the \"figure of merit\" to determine the performance of a blocker line is the difference between their jammer's score and the opposing jammer's score. A good blocker line is able to slow the opposing jammer substantially while also letting their own through.\n",
    "\n",
    "-Third: the rules of roller derby change often, as the sport is still relatively new. For instance- at one point, jammers scored an additional point for passing the opposing team's jammer as well as blockers.\n",
    "    "
   ]
  },
  {
   "cell_type": "code",
   "execution_count": 30,
   "metadata": {},
   "outputs": [],
   "source": [
    "import requests\n",
    "import pandas as pd\n",
    "import numpy as np\n",
    "import trueskill\n",
    "from bs4 import BeautifulSoup\n",
    "from itertools import product\n",
    "from urllib.request import urlopen\n",
    "import nbimporter\n",
    "import Webscraper as wsc\n",
    "\n",
    "teamID=str(3637)\n",
    "teamName='Killamazoo'"
   ]
  },
  {
   "cell_type": "code",
   "execution_count": 31,
   "metadata": {},
   "outputs": [
    {
     "ename": "TypeError",
     "evalue": "GetAllLineups() takes 1 positional argument but 2 were given",
     "output_type": "error",
     "traceback": [
      "\u001b[0;31m---------------------------------------------------------------------------\u001b[0m",
      "\u001b[0;31mTypeError\u001b[0m                                 Traceback (most recent call last)",
      "\u001b[0;32m<ipython-input-31-dc82fb2041fa>\u001b[0m in \u001b[0;36m<module>\u001b[0;34m\u001b[0m\n\u001b[1;32m      1\u001b[0m \u001b[0;31m#First, get the lineups for each jam KDD has stats available for.\u001b[0m\u001b[0;34m\u001b[0m\u001b[0;34m\u001b[0m\u001b[0;34m\u001b[0m\u001b[0m\n\u001b[0;32m----> 2\u001b[0;31m \u001b[0mAllLineups\u001b[0m \u001b[0;34m=\u001b[0m \u001b[0mwsc\u001b[0m\u001b[0;34m.\u001b[0m\u001b[0mGetAllLineups\u001b[0m\u001b[0;34m(\u001b[0m\u001b[0mteamID\u001b[0m\u001b[0;34m,\u001b[0m \u001b[0mteamName\u001b[0m\u001b[0;34m)\u001b[0m\u001b[0;34m\u001b[0m\u001b[0;34m\u001b[0m\u001b[0m\n\u001b[0m",
      "\u001b[0;31mTypeError\u001b[0m: GetAllLineups() takes 1 positional argument but 2 were given"
     ]
    }
   ],
   "source": [
    "#First, get the lineups for each jam KDD has stats available for.\n",
    "AllLineups = wsc.GetAllLineups(teamID, teamName)"
   ]
  },
  {
   "cell_type": "markdown",
   "metadata": {},
   "source": [
    "Let's only look at blockers for now, since they interact most closely with each other. Matching jammers to blocker lines is a different question than composing the lines themselves, since interplay is different."
   ]
  },
  {
   "cell_type": "code",
   "execution_count": null,
   "metadata": {},
   "outputs": [],
   "source": [
    "Next, "
   ]
  }
 ],
 "metadata": {
  "kernelspec": {
   "display_name": "Python 3",
   "language": "python",
   "name": "python3"
  },
  "language_info": {
   "codemirror_mode": {
    "name": "ipython",
    "version": 3
   },
   "file_extension": ".py",
   "mimetype": "text/x-python",
   "name": "python",
   "nbconvert_exporter": "python",
   "pygments_lexer": "ipython3",
   "version": "3.8.5"
  }
 },
 "nbformat": 4,
 "nbformat_minor": 2
}
