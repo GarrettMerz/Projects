{
 "cells": [
  {
   "cell_type": "markdown",
   "metadata": {},
   "source": [
    "Now that we have a dataset, we can start to do some actual analysis. I'm going to be attempting to replicate the methodology of this paper:\n",
    "\n",
    "Sapienza, Anna and Goyal, Palash and Ferrara, Emilio. Deep Neural Networks for Optimal Team Composition. Frontiers in Big Data, vol 2. Jun 2019. https://arxiv.org/abs/1805.03285 \n",
    "\n",
    "While roller derby and esports games like League of Legends obviously are very different, in many ways, they can be treated similarly- each League match and individual jam of a derby bout consists of a team of 5 players with different defined roles attempting to achieve an objective while slowing the opposing team's attempt to achieve theirs.\n",
    "\n",
    "A derby bout (game) consists of a series of many individual jams. Each team forwards a defensive line of four \"blockers\" and an offensive line of one \"jammer\". The jammer scores points by passing through the \"pack\" of blockers- one initial non-scoring pass through the pack is required, and then one point is earned for each of the opposing team's blockers that the jammer passes on subsequent laps. Each jam can run for a set amount of time, but the jammer that is the first to complete the non-scoring pass (\"lead jammer\") can choose to end the jam early. In addition, the jammer can hand off their jammer status to one special blocker on each team called a \"pivot\" by passing the special helmet cover that the jammer wears. This is the general gist of the sport- in many ways, it's similar to the playground game \"Red Rover\", but on wheels.\n",
    "\n",
    "Naturally, when the blockers try to stop the jammer, things can get scrappy! Various penalties are given when a player shoves another in an illegal manner, when a blocker strays too far from the pack, when a player goes out of bounds, when a blocker makes an illegal formation (such as linking arms with another blocker), etc. It's general \"derby wisdom\" that certain penalties are more common \"new-skater\" penalties, while the distribution of penalties changes with skill. We can test this!"
   ]
  },
  {
   "cell_type": "markdown",
   "metadata": {},
   "source": [
    "\n",
    "Let's pick a team. I'll use the Kalamazoo Derby Darlins, the team I've announced for for the past few years. \n",
    "\n",
    "In this analysis, I'm going to make some assumptions.\n",
    "-First, that the fundamental unit of derby is not the bout, but the jam. Each jam is unique, and may have starting conditions determined by the preceding jam, but ultimately, for the purposes of this analysis, the only influence jam 1 may have on a jam like jam 20 is player stamina (N.B.: sometimes players can still be in the penalty box from previous jams, so this is not strictly correct! but it's probably correct enough for what we'd like to test here). This means that I will update a player's \"rating\" each jam rather than each bout.\n",
    "\n",
    "-Second, that the \"figure of merit\" to determine the performance of a jammer is the total number of points they score in a jam, but that the \"figure of merit\" to determine the performance of a blocker line is the difference between their jammer's score and the opposing jammer's score. A good blocker line is able to slow the opposing jammer substantially while also letting their own through.\n",
    "\n",
    "-Third: the rules of roller derby change often, as the sport is still relatively new. For instance- at one point, jammers scored an additional point for passing the opposing team's jammer as well as blockers.\n",
    "    "
   ]
  },
  {
   "cell_type": "code",
   "execution_count": 1,
   "metadata": {},
   "outputs": [],
   "source": [
    "import requests\n",
    "import pandas as pd\n",
    "import numpy as np\n",
    "import trueskill\n",
    "from bs4 import BeautifulSoup\n",
    "from itertools import product\n",
    "from urllib.request import urlopen\n",
    "import nbimporter\n",
    "import Webscraper as wsc\n",
    "\n",
    "teamID=str(3637)\n",
    "teamName='Killamazoo'"
   ]
  },
  {
   "cell_type": "code",
   "execution_count": 2,
   "metadata": {},
   "outputs": [
    {
     "name": "stderr",
     "output_type": "stream",
     "text": [
      "Webscraper.ipynb:7: GuessedAtParserWarning: No parser was explicitly specified, so I'm using the best available HTML parser for this system (\"lxml\"). This usually isn't a problem, but if you run this code on another system, or in a different virtual environment, it may use a different parser and behave differently.\n",
      "\n",
      "The code that caused this warning is on line 7 of the file Webscraper.ipynb. To get rid of this warning, pass the additional argument 'features=\"lxml\"' to the BeautifulSoup constructor.\n",
      "\n",
      "  \"In this series of notebooks, I will attempt to do some introductory exploration of various roller derby statistics. We will use the publicly available stats on the FlatTrackStats website. First, I will build a table scraper tool using the BeautifulSoup4 package to parse the stats tables on the website. If not already installed, you will need pandas and BeautifulSoup4 in order to run this notebook. \"\n",
      "Webscraper.ipynb:16: GuessedAtParserWarning: No parser was explicitly specified, so I'm using the best available HTML parser for this system (\"lxml\"). This usually isn't a problem, but if you run this code on another system, or in a different virtual environment, it may use a different parser and behave differently.\n",
      "\n",
      "The code that caused this warning is on line 16 of the file Webscraper.ipynb. To get rid of this warning, pass the additional argument 'features=\"lxml\"' to the BeautifulSoup constructor.\n",
      "\n",
      "  \"    import requests\\n\",\n"
     ]
    }
   ],
   "source": [
    "#First, get the lineups for each jam KDD has stats available for.\n",
    "AllLineups = wsc.GetAllLineups(teamID, teamName)"
   ]
  },
  {
   "cell_type": "markdown",
   "metadata": {},
   "source": [
    "Let's only look at blockers for now, since they interact most closely with each other. Matching jammers to blocker lines is a different question than composing the lines themselves, since interplay is different."
   ]
  },
  {
   "cell_type": "code",
   "execution_count": 4,
   "metadata": {},
   "outputs": [
    {
     "name": "stdout",
     "output_type": "stream",
     "text": [
      "      index                      0               0                      0  \\\n",
      "0         0          Gorges Curves               0  Lora Wayman (Outa ...   \n",
      "1         1       Racer McChaseHer           Lead              Julie Ruin   \n",
      "2         2          Gorges Curves           Lead   Lora Wayman (Outa ...   \n",
      "3         3  Sarah Hipel (Killb...       LeadLoss                  Perish   \n",
      "4         4  Zee \"Loraine Acid\"...           Lead             Slammerhead   \n",
      "...     ...                    ...             ...                    ...   \n",
      "5041     79     Kitty Liquorbottom  Lead LeadLoss              Amy Spears   \n",
      "5042     80  Elizabeth Cain (Br...               0  Tari Miller (Miss ...   \n",
      "5043     81     Kitty Liquorbottom           Lead              Amy Spears   \n",
      "5044     82  Megan Harrington (...           Lead   Meshelle Wilson (M...   \n",
      "5045     83           Wendra Woman               0              kill basa   \n",
      "\n",
      "                          0                      0                      0  0  \\\n",
      "0               Slammerhead              Bigg Rigg           Kelsey Khaos  0   \n",
      "1                Lazer Beam            Kelly Genei  Lollypops Em Hard�...  0   \n",
      "2             Betty T. KayO               Chainsaw           Kelsey Khaos  0   \n",
      "3                  Oi! Rish  Meryl Slaughterbur...          Cookie Rumble  0   \n",
      "4             Betty T. KayO              Bigg Rigg               Chainsaw  0   \n",
      "...                     ...                    ...                    ... ..   \n",
      "5041  Lora Wayman (Outa ...           Phoenix Bunz  Pippi Ripyourstock...  0   \n",
      "5042  Malerie Houdek (Th...          Slam Anderson  Megan Harrington (...  0   \n",
      "5043     Bratislava Bruiser           Phoenix Bunz  Pippi Ripyourstock...  0   \n",
      "5044  Malerie Houdek (Th...  Andrea Tarnick (Ke...  Tari Miller (Miss ...  0   \n",
      "5045     Bratislava Bruiser           Phoenix Bunz  Pippi Ripyourstock...  0   \n",
      "\n",
      "       0    0  \n",
      "0      0    0  \n",
      "1     10   10  \n",
      "2     14   14  \n",
      "3      0   10  \n",
      "4      4   18  \n",
      "...   ..  ...  \n",
      "5041   9   96  \n",
      "5042   0   94  \n",
      "5043   3   99  \n",
      "5044  10  104  \n",
      "5045   0   99  \n",
      "\n",
      "[5046 rows x 10 columns]\n"
     ]
    }
   ],
   "source": [
    "print(AllLineups.reset_index())"
   ]
  },
  {
   "cell_type": "markdown",
   "metadata": {},
   "source": [
    "Next, let's convert each jam into a directed graph. "
   ]
  }
 ],
 "metadata": {
  "kernelspec": {
   "display_name": "Python 3",
   "language": "python",
   "name": "python3"
  },
  "language_info": {
   "codemirror_mode": {
    "name": "ipython",
    "version": 3
   },
   "file_extension": ".py",
   "mimetype": "text/x-python",
   "name": "python",
   "nbconvert_exporter": "python",
   "pygments_lexer": "ipython3",
   "version": "3.8.5"
  }
 },
 "nbformat": 4,
 "nbformat_minor": 2
}
